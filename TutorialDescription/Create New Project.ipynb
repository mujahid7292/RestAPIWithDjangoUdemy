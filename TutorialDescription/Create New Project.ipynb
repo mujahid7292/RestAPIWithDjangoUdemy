{
 "cells": [
  {
   "cell_type": "markdown",
   "metadata": {},
   "source": [
    "1. First create <b>`Dockerfile`</b> file"
   ]
  },
  {
   "cell_type": "code",
   "execution_count": null,
   "metadata": {},
   "outputs": [],
   "source": [
    "                                                                                         # Dockerfile\n",
    "# Bring Base Image From The Docker Hub\n",
    "FROM python:3.7-alpine\n",
    "\n",
    "# Name Of The Code Maintainer & Email \n",
    "MAINTAINER Saifullah al Mujahid <mujahid7292@gmail.com>\n",
    "\n",
    "# Let set python unbuffered environment variable.\n",
    "ENV PYTHONUNBUFFERED 1\n",
    "# What this environment variable does, is that it tell python\n",
    "# to run in unbuffered mode. This is recommended when running \n",
    "# python inside docker container. The reason for this, is that \n",
    "# it does not allow python to buffer the output. So it reduce\n",
    "# the error in running python inside docker image.\n",
    "\n",
    "# We are going to store our projects dependencies in the\n",
    "# ./requirements.txt file.\n",
    "COPY ./requirements.txt  /requirements.txt\n",
    "# This command will copy this file to inside the docker image\n",
    "# in the following '/' directory.\n",
    "\n",
    "# Now we will install all of the dependencies of our project.\n",
    "RUN pip install -r /requirements.txt\n",
    "\n",
    "# We will create a directory(/app) within our docker image, that we can use\n",
    "# to store our application source code.\n",
    "RUN mkdir /app\n",
    "# Create a directory/folder named 'app' inside our docker image\n",
    "WORKDIR /app\n",
    "# Switched to this 'app' directory as a default directory.\n",
    "# Any application that we run inside our docker container, will start\n",
    "# running from this location.\n",
    "COPY ./app /app\n",
    "# Copy all the source code from our local machine / 'app' folder to the directory\n",
    "# inside docker container which is also 'app' folder.\n",
    "\n",
    "# We will create an user who will run our application using docker.\n",
    "RUN adduser -D mujahid7292\n",
    "# -D = Create an user without admin privilage. That means this user will only be able \n",
    "# to run this docker image & will not get any root access.\n",
    "# mujahid7292 = Name of the user.\n",
    "USER mujahid7292\n",
    "# Now docker will switched to this 'mujahid7292' user.\n"
   ]
  },
  {
   "cell_type": "markdown",
   "metadata": {},
   "source": [
    "2. Create <b>`requirements.txt`</b> file"
   ]
  },
  {
   "cell_type": "code",
   "execution_count": null,
   "metadata": {},
   "outputs": [],
   "source": [
    "                                                                                     #requirements.txt\n",
    "Django>=2.1.4,<2.2.0\n",
    "djangorestframework>=3.9.0,<3.10.0"
   ]
  },
  {
   "cell_type": "markdown",
   "metadata": {},
   "source": [
    "3. Create <b>`docker-compose.yml`</b> file"
   ]
  },
  {
   "cell_type": "code",
   "execution_count": null,
   "metadata": {},
   "outputs": [],
   "source": [
    "                                                                                # docker-compose.yml\n",
    "version: \"3\"\n",
    "# docker-compose version number. 3 is the lattest version\n",
    "\n",
    "# Now we will define services that make up our application\n",
    "services:\n",
    "  app: # This is the name of our services\n",
    "    build:\n",
    "      context: . # This will set the build to our current directory\n",
    "    ports:\n",
    "      - \"8000:8000\"\n",
    "      # First 8000, means we are exposing port 8000 in our machine.\n",
    "      # Second 8000, means we are exposing port 8000 in our docker image.\n",
    "    volumes:\n",
    "    # Volumes allows us to get the update (that we make to our project) into our docker\n",
    "    # image in real time. So this section will maps a volume from our local machine\n",
    "    # to our docker container. This means whenever you change some code or file in\n",
    "    # the project, it will automatically get updated into the container. That means\n",
    "    # you don't need to restart the docker to get the changes.\n",
    "      - ./app:/app\n",
    "    # ./app = 'app' directory in our local machine\n",
    "    # /app =  'app' directory inside the docker image\n",
    "\n",
    "    # Now we will use 'command' to run our application inside docker container.\n",
    "    command: > # > = This symbol break the command to next line\n",
    "      sh -c \"python manage.py runserver 0.0.0.0:8000\"\n",
    "      # sh = We are going to run the command using shell\n",
    "      # -c = Run following command\n",
    "      "
   ]
  },
  {
   "cell_type": "markdown",
   "metadata": {},
   "source": [
    "4. In the directory where docker-compose.yml file has, run following command in the windows powershell or command line\n",
    "<br/><b>`$ docker-compose build`</b>\n",
    "<br/>This command will build the image & give it the name of the folder `restapiwithdjangoudemy_app:latest`"
   ]
  },
  {
   "cell_type": "markdown",
   "metadata": {},
   "source": [
    "5. Now we will create a django project, using the above docker configuration. Now create our django project by this command:\n",
    "<br/><b>`$ sudo docker-compose run app sh -c \"django-admin.py startproject app .\"`</b>\n",
    "<br/> app = Name of the service which you want to run. Currently we have only one service. Anything after this word will pass into this linux container.\n",
    "<br/> sh  = Run a shell script inside linux container.\n",
    "<br/> -c = This is the flag for passing command into linux container.\n",
    "<br/> \"\" = Inside this we pass our command.\n",
    "<br/> django-admin.py startproject app = This will create a new django project name `app`.\n",
    "<br/> . = The project will be created in the current directory."
   ]
  },
  {
   "cell_type": "markdown",
   "metadata": {},
   "source": [
    "# Section-5:"
   ]
  },
  {
   "cell_type": "markdown",
   "metadata": {},
   "source": [
    "### Video: 20. Create Travis-CI configuration file"
   ]
  },
  {
   "cell_type": "markdown",
   "metadata": {},
   "source": [
    "The travis ci configuration file is the file, that tells travis ci what to do, everytime we push a change to our project.\n",
    "\n",
    "You create a travis ci configuration file by simply creating file in the root of the project directory. You name the file as <b>`.travis.yml`</b>"
   ]
  },
  {
   "cell_type": "code",
   "execution_count": null,
   "metadata": {},
   "outputs": [],
   "source": [
    "                                                                                          #.travis.yml\n",
    "#In the first line we will tell travis CI what language we have used in this\n",
    "#project. As we have created this project using python. So we will write.\n",
    "language: python\n",
    "\n",
    "# Next we will tell travis CI what version of python it should use to spin\n",
    "# up the server to run automated test.\n",
    "python:\n",
    " - \"3.6\"\n",
    "\n",
    "#Next we are going to tell travis CI, what service we need to use.\n",
    "services:\n",
    " - \"docker\"\n",
    "# We are just going to need docker service for this project. And all of\n",
    "#the sub services are gonna be contained within our docker-compose.yml file\n",
    "#and our Dockerfile configuration.\n",
    "\n",
    "#Now we can specify a before_script, which is a script that travis will run\n",
    "#before it executes any of the automation command, that we are going to input\n",
    "#after before_script.\n",
    "before_script: pip install docker-compose\n",
    "#Before it runs any thing we need to install docker compose.\n",
    "\n",
    "#Next we specify the script.\n",
    "script:\n",
    "  #Here we are going to run our docker-compose command for running\n",
    "  #our automated test.\n",
    "  - docker-compose run app sh -c \"python manage.py test && flake8\"\n",
    "  #We also will run our linting tool by adding \"flake8\" with the\n",
    "  #above command."
   ]
  },
  {
   "cell_type": "markdown",
   "metadata": {},
   "source": [
    "Next we need to add this (flake8) linting tool in our project. For that we will add <b>`flake8>=3.6.0,<3.7.0`</b> in our requirement.txt file."
   ]
  },
  {
   "cell_type": "code",
   "execution_count": 1,
   "metadata": {
    "collapsed": true
   },
   "outputs": [
    {
     "ename": "SyntaxError",
     "evalue": "invalid syntax (<ipython-input-1-e604a771ade5>, line 2)",
     "output_type": "error",
     "traceback": [
      "\u001b[1;36m  File \u001b[1;32m\"<ipython-input-1-e604a771ade5>\"\u001b[1;36m, line \u001b[1;32m2\u001b[0m\n\u001b[1;33m    Django>=2.1.4,<2.2.0\u001b[0m\n\u001b[1;37m                ^\u001b[0m\n\u001b[1;31mSyntaxError\u001b[0m\u001b[1;31m:\u001b[0m invalid syntax\n"
     ]
    }
   ],
   "source": [
    "                                                                                     #requirements.txt\n",
    "Django>=2.1.4,<2.2.0\n",
    "djangorestframework>=3.9.0,<3.10.0\n",
    "flake8>=3.6.0,<3.7.0"
   ]
  },
  {
   "cell_type": "markdown",
   "metadata": {},
   "source": [
    "Next we will add flake8 config file inside our django project. Name of the file will be <b>`.flake8`</b>"
   ]
  },
  {
   "cell_type": "code",
   "execution_count": null,
   "metadata": {},
   "outputs": [],
   "source": [
    "                                                                                             #.flake8\n",
    "[flake8]\n",
    "exclude=\n",
    " migrations,\n",
    " __pycahce__,\n",
    " manage.py,\n",
    " settings.py"
   ]
  },
  {
   "cell_type": "markdown",
   "metadata": {},
   "source": [
    "Afte adding `.flake8` config file in our project, lets rebuild our docker image by below command:\n",
    "<br/><b>`$ sudo docker-compose build`</b>"
   ]
  },
  {
   "cell_type": "markdown",
   "metadata": {},
   "source": [
    "Next commit & push our changes to the github."
   ]
  },
  {
   "cell_type": "markdown",
   "metadata": {},
   "source": [
    "# Section-6:"
   ]
  },
  {
   "cell_type": "markdown",
   "metadata": {},
   "source": [
    "### Video: 21. Writing a simple unit test"
   ]
  },
  {
   "cell_type": "markdown",
   "metadata": {},
   "source": [
    "Lets create a new file in our app directory name calc.py"
   ]
  },
  {
   "cell_type": "code",
   "execution_count": null,
   "metadata": {},
   "outputs": [],
   "source": [
    "                                                                                            #calc.py\n",
    "def add(x,y):\n",
    "    \"\"\"\n",
    "    This function add two number together.\n",
    "    \"\"\"\n",
    "    return x + y"
   ]
  },
  {
   "cell_type": "markdown",
   "metadata": {},
   "source": [
    "Now lets say we want create an unit test for our add function. To do this we are going to create a new file name <b>`tests.py`</b> in the same directory.\n",
    "\n",
    "Django unit test framework looks for any file /folder that begins with the word `test` and it basically use those file / folder as a test script, when you run django `run unit test` command. "
   ]
  },
  {
   "cell_type": "code",
   "execution_count": null,
   "metadata": {},
   "outputs": [],
   "source": [
    "                                                                                            #tests.py\n",
    "from django.test import TestCase\n",
    "# This above import will help us to test our django app.\n",
    "\n",
    "#Next we will import function which we want to test.\n",
    "from app.calc import add\n",
    "\n",
    "#Now we will create a classs which will test our calc\n",
    "#class.\n",
    "class CalcTest(TestCase):\n",
    "    #We are going to inherit this class from TestCase\n",
    "\n",
    "    # Now we will create test function to test the add\n",
    "    #function.\n",
    "\n",
    "    def test_add_numbers(self):\n",
    "        \"\"\"\n",
    "        Test that two numbers are added together.\n",
    "        \"\"\"\n",
    "        self.assertEqual(add(3,8),11)"
   ]
  },
  {
   "cell_type": "markdown",
   "metadata": {},
   "source": [
    "One thing to mention about this function name <b>`test_add_numbers`</b> is that, just like when django search for file / folder with the start name `test`, this test function should also start with the name `test`."
   ]
  },
  {
   "cell_type": "markdown",
   "metadata": {},
   "source": [
    "Now lets save this <b>`tests.py`</b> file & go to our terminal and run django unit test by this below command:\n",
    "<br/><b>`$ sudo docker-compose run app sh -c \"python manage.py test\"`</b>"
   ]
  },
  {
   "cell_type": "markdown",
   "metadata": {},
   "source": [
    "### Video: 22. Writing a unit test with TDD"
   ]
  },
  {
   "cell_type": "markdown",
   "metadata": {},
   "source": [
    "We will also check python linting, So:\n",
    "<br/><b>`$ sudo docker-compose run app sh -c \"python manage.py test && flake8\"`</b>"
   ]
  },
  {
   "cell_type": "markdown",
   "metadata": {},
   "source": [
    "# Section 7: Configure Django custom user model"
   ]
  },
  {
   "cell_type": "markdown",
   "metadata": {},
   "source": [
    "### Video: 23. Create core app"
   ]
  },
  {
   "cell_type": "markdown",
   "metadata": {},
   "source": [
    "The first thing we're going to do is we're going to create a core app which will hold all of the central code that is important to the rest of the sub apps that we create in our system. So it's going to create anything that is shared between one or more apps. So things like the migration and the database I like to put this all in the core module just so it's all in one place and is very clear where the kind of central point of all these things is."
   ]
  },
  {
   "cell_type": "markdown",
   "metadata": {},
   "source": [
    "All right we're going to create our app from the terminal and we're going to use the django manage\n",
    "command just like we did to create the project. So we're going to type:\n",
    "\n",
    "<br/><b>`$ sudo docker-compose run app sh -c \"python manage.py startapp core\"`</b>"
   ]
  },
  {
   "cell_type": "markdown",
   "metadata": {},
   "source": [
    "Let's clean up some of the files that we're not going to be using in this `core` folder. So we're not going to be using the `tests.py` file, So delete this file And let's remove the `views.py` because we're not going to need the views in the core. \n",
    "\n",
    "And then let's create a new folder called `tests` and inside this folder Let's create `__init__.py`."
   ]
  },
  {
   "cell_type": "markdown",
   "metadata": {},
   "source": [
    "### Video: 24. Add tests for custom user"
   ]
  },
  {
   "cell_type": "markdown",
   "metadata": {},
   "source": [
    "First Let's go into the settings of our app and make sure that the core app that we created in the previous video is added to the installed apps list."
   ]
  },
  {
   "cell_type": "code",
   "execution_count": null,
   "metadata": {},
   "outputs": [],
   "source": [
    "#settings.py\n",
    "\n",
    "INSTALLED_APPS = [\n",
    "    'django.contrib.admin',\n",
    "    'django.contrib.auth',\n",
    "    'django.contrib.contenttypes',\n",
    "    'django.contrib.sessions',\n",
    "    'django.contrib.messages',\n",
    "    'django.contrib.staticfiles',\n",
    "    'core', # Here we have added our core app.\n",
    "]"
   ]
  },
  {
   "cell_type": "markdown",
   "metadata": {},
   "source": [
    "Once as added We can go into our `tests` folder and we can create a new file called `test_models.py`"
   ]
  },
  {
   "cell_type": "code",
   "execution_count": null,
   "metadata": {},
   "outputs": [],
   "source": [
    "                                                                                      #test_models.py\n",
    "from django.test import TestCase\n",
    "from django.contrib.auth import get_user_model\n",
    "\n",
    "class ModelTests(TestCase):\n",
    "\n",
    "    def test_create_user_with_email_successfull(self):\n",
    "        \"\"\"\n",
    "        Test that will test whether creating a new user with\n",
    "        email and password is suceessful.\n",
    "        \"\"\"\n",
    "\n",
    "        # Now create one fake email & password for testing the\n",
    "        # user object\n",
    "        email = \"test_email@gmail.com\"\n",
    "        password = \"TestPassword123\"\n",
    "\n",
    "        # Create fake user object using above emaill & pass\n",
    "        user = get_user_model().objects.create_user(\n",
    "            email = email\n",
    "            password = password\n",
    "        )\n",
    "\n",
    "        # Test the fake user object, whether properly created\n",
    "        # or not.\n",
    "        self.assertEqual(user.email,email)\n",
    "        self.assertTrue(user.check_password(password))"
   ]
  },
  {
   "cell_type": "markdown",
   "metadata": {},
   "source": [
    "Now, we will run our test:\n",
    "<br/><b>`$ sudo docker-compose run app sh -c \"python manage.py test && flake8\"`</b>"
   ]
  },
  {
   "cell_type": "markdown",
   "metadata": {},
   "source": [
    "### Video: 25. Implement custom user model"
   ]
  },
  {
   "cell_type": "markdown",
   "metadata": {},
   "source": [
    "The first thing we're going to do is we have to create a user model in our `models.py` file in the\n",
    "core app and then we're going to update the `settings.py` file to set our custom auth user model."
   ]
  },
  {
   "cell_type": "code",
   "execution_count": 1,
   "metadata": {},
   "outputs": [],
   "source": [
    "                                                                                           #models.py\n",
    "from django.db import models\n",
    "from django.contrib.auth.models import AbstractBaseUser, \\\n",
    "    BaseUserManager, PermissionMixin\n",
    "\n",
    "# Create a model manager class. As our model name is 'user',\n",
    "# So, model manager class name will be 'UserModel'\n",
    "class UserManager(BaseUserManager):\n",
    "\n",
    "    def create_user(self, email, password=None, **extra_fields):\n",
    "        \"\"\"\n",
    "        This function creates and saves a new user.\n",
    "\n",
    "        email = User email address.\n",
    "        password = User provided password. Default is none.\n",
    "        **extra_fields = This will allow to add new field when\n",
    "                    we create user. Such as user phone number\n",
    "                    etc.\n",
    "\n",
    "        return\n",
    "        This function return a newly created user.\n",
    "        \"\"\"\n",
    "\n",
    "        user = self.model(email=email,**extra_fields)\n",
    "        user.set_password(password)\n",
    "        user.save(using=self._db)\n",
    "\n",
    "        # 'using=self._db' = This will help us to support\n",
    "        # multiple database.\n",
    "\n",
    "        return user\n",
    "\n",
    "# Now we will create our model class\n",
    "\n",
    "class User(AbstractBaseUser, PermissionMixin):\n",
    "    \"\"\"\n",
    "    This is custom user model, that supports email base\n",
    "    user authentication rather than name base user \n",
    "    authentication.\n",
    "    \"\"\"\n",
    "\n",
    "    email = models.EmailField(max_length=255, unique=True)\n",
    "    name = models.CharField(max_length=255)\n",
    "    is_active = models.BooleanField(default=True)\n",
    "    is_staff = models.BooleanField(default=False)\n",
    "\n",
    "    objects = UserManager()\n",
    "\n",
    "    USERNAME_FIELD = 'email'\n",
    "    # In django by default USERNAME_FIELD = 'username', but\n",
    "    # in this app we are stting it to be email."
   ]
  },
  {
   "cell_type": "code",
   "execution_count": null,
   "metadata": {},
   "outputs": [],
   "source": [
    "                                                                                         #settings.py\n",
    "\n",
    "########################### At the bottom of the file add this.###################################\n",
    "\n",
    "# Settings added by me\n",
    "AUTH_USER_MODEL = 'core.User'\n",
    "# Here 'core' is the name of the app\n",
    "# And 'User' is the name of our model"
   ]
  },
  {
   "cell_type": "markdown",
   "metadata": {},
   "source": [
    "Now go back to our terminal and make the migration.\n",
    "<br/><b>`$ sudo docker-compose run app sh -c \"python manage.py makemigrations core\"`</b>\n",
    "\n",
    "Here,\n",
    "core = It is the name of the app for which we are running this above migration command."
   ]
  },
  {
   "cell_type": "markdown",
   "metadata": {},
   "source": [
    "Now that we have complete our database migration successfully, we can run our test again.\n",
    "<br/><b>`$ sudo docker-compose run app sh -c \"python manage.py test && flake8\"`</b>"
   ]
  },
  {
   "cell_type": "markdown",
   "metadata": {},
   "source": [
    "### Video: 26. Normalize email addresses"
   ]
  },
  {
   "cell_type": "code",
   "execution_count": null,
   "metadata": {},
   "outputs": [],
   "source": [
    "                                                                                       #test_models.py\n",
    "from django.test import TestCase\n",
    "from django.contrib.auth import get_user_model\n",
    "\n",
    "class ModelTests(TestCase):\n",
    "\n",
    "    def test_create_user_with_email_successfull(self):\n",
    "        \"\"\"\n",
    "        Test that will test whether creating a new user with\n",
    "        email and password is suceessful.\n",
    "        \"\"\"\n",
    "\n",
    "        # Now create one fake email & password for testing the\n",
    "        # user object\n",
    "        email = \"test_email@gmail.com\"\n",
    "        password = \"TestPassword123\"\n",
    "\n",
    "        # Create fake user object using above emaill & pass\n",
    "        user = get_user_model().objects.create_user(\n",
    "            email = email,\n",
    "            password = password\n",
    "        )\n",
    "\n",
    "        # Test the fake user object, whether properly created\n",
    "        # or not.\n",
    "        self.assertEqual(user.email,email)\n",
    "        self.assertTrue(user.check_password(password))\n",
    "\n",
    "\n",
    "    def test_new_user_email_normalized(self):\n",
    "        \"\"\"\n",
    "        This test will check whether we have implemented\n",
    "        email text normalized / convert all upper case letter\n",
    "        in email to lowercase or not.\n",
    "        \"\"\"\n",
    "\n",
    "        # Now we will create a dummy email with all upper case\n",
    "        # after @ sign \n",
    "        email = \"test_email@GMAIL.COM\"\n",
    "        pass = \"Test1234\"\n",
    "\n",
    "        # Create fake user object using above emaill & pass\n",
    "        user = get_user_model().objects.create_user(\n",
    "            email = email,\n",
    "            password = pass\n",
    "        )\n",
    "\n",
    "        # Now we will check whether our upper case email\n",
    "        # has been converted into lower case.\n",
    "        self.assertEqual(user.email, email.lower())\n"
   ]
  },
  {
   "cell_type": "markdown",
   "metadata": {},
   "source": [
    "Now go back to our terminal & run only python test this time not flake8 test.\n",
    "<br/><b>`$ sudo docker-compose run app sh -c \"python manage.py test\"`</b>\n",
    "\n",
    "And we will see that our test failed. So to pass the test we will modify our `models.py` file."
   ]
  },
  {
   "cell_type": "code",
   "execution_count": null,
   "metadata": {},
   "outputs": [],
   "source": [
    "from django.db import models\n",
    "from django.contrib.auth.models import AbstractBaseUser, \\\n",
    "    BaseUserManager, PermissionsMixin\n",
    "\n",
    "# Create a model manager class. As our model name is 'user',\n",
    "# So, model manager class name will be 'UserModel'\n",
    "class UserManager(BaseUserManager):\n",
    "\n",
    "    def create_user(self, email, password=None, **extra_fields):\n",
    "        \"\"\"\n",
    "        This function creates and saves a new user.\n",
    "\n",
    "        email = User email address.\n",
    "        password = User provided password. Default is none.\n",
    "        **extra_fields = This will allow to add new field when\n",
    "                    we create user. Such as user phone number\n",
    "                    etc.\n",
    "\n",
    "        return\n",
    "        This function return a newly created user.\n",
    "        \"\"\"\n",
    "\n",
    "        user = self.model(\n",
    "            email=self.normalize_email(email),\n",
    "            **extra_fields\n",
    "            )\n",
    "        user.set_password(password)\n",
    "        user.save(using=self._db)\n",
    "\n",
    "        # 'using=self._db' = This will help us to support\n",
    "        # multiple database.\n",
    "\n",
    "        return user\n",
    "\n",
    "# Now we will create our model class\n",
    "\n",
    "class User(AbstractBaseUser, PermissionsMixin):\n",
    "    \"\"\"\n",
    "    This is custom user model, that supports email base\n",
    "    user authentication rather than name base user \n",
    "    authentication.\n",
    "    \"\"\"\n",
    "\n",
    "    email = models.EmailField(max_length=255, unique=True)\n",
    "    name = models.CharField(max_length=255)\n",
    "    is_active = models.BooleanField(default=True)\n",
    "    is_staff = models.BooleanField(default=False)\n",
    "\n",
    "    objects = UserManager()\n",
    "\n",
    "    USERNAME_FIELD = 'email'\n",
    "    # In django by default USERNAME_FIELD = 'username', but\n",
    "    # in this app we are stting it to be email."
   ]
  },
  {
   "cell_type": "markdown",
   "metadata": {},
   "source": [
    "### Video: 27. Add validation for email field"
   ]
  },
  {
   "cell_type": "markdown",
   "metadata": {},
   "source": [
    "Next we're going to add validation to ensure that an e-mail field has actually been provided when create_user() function is called. So lets write new test in our `test_models.py` file."
   ]
  },
  {
   "cell_type": "code",
   "execution_count": null,
   "metadata": {},
   "outputs": [],
   "source": [
    "                                                                                    #test_models.py\n",
    "from django.test import TestCase\n",
    "from django.contrib.auth import get_user_model\n",
    "\n",
    "class ModelTests(TestCase):\n",
    "\n",
    "    def test_create_user_with_email_successfull(self):\n",
    "        \"\"\"\n",
    "        Test that will test whether creating a new user with\n",
    "        email and password is suceessful.\n",
    "        \"\"\"\n",
    "\n",
    "        # Now create one fake email & password for testing the\n",
    "        # user object\n",
    "        email = \"test_email@gmail.com\"\n",
    "        password = \"TestPassword123\"\n",
    "\n",
    "        # Create fake user object using above emaill & pass\n",
    "        user = get_user_model().objects.create_user(\n",
    "            email = email,\n",
    "            password = password\n",
    "        )\n",
    "\n",
    "        # Test the fake user object, whether properly created\n",
    "        # or not.\n",
    "        self.assertEqual(user.email,email)\n",
    "        self.assertTrue(user.check_password(password))\n",
    "\n",
    "\n",
    "    def test_new_user_email_normalized(self):\n",
    "        \"\"\"\n",
    "        This test will check whether we have implemented\n",
    "        email text normalized / convert all upper case letter\n",
    "        in email to lowercase or not.\n",
    "        \"\"\"\n",
    "\n",
    "        # Now we will create a dummy email with all upper case\n",
    "        # after @ sign \n",
    "        email = \"test_email@GMAIL.COM\"\n",
    "        password = \"Test1234\"\n",
    "\n",
    "        # Create fake user object using above emaill & pass\n",
    "        user = get_user_model().objects.create_user(\n",
    "            email = email,\n",
    "            password = password\n",
    "        )\n",
    "\n",
    "        # Now we will check whether our upper case email\n",
    "        # has been converted into lower case.\n",
    "        self.assertEqual(user.email, email.lower())\n",
    "\n",
    "\n",
    "    def test_invalid_user_email_raise_value_error(self):\n",
    "        \"\"\"\n",
    "        This test will ensure that if we try to create a new\n",
    "        user without providing an emaill address, our function\n",
    "        will raise a value error.\n",
    "        \"\"\"\n",
    "        with self.assertRaises(ValueError):\n",
    "            # anything that we run in here should \n",
    "            # raise the value error And if it doesn't \n",
    "            # raise the value error, then this test will fail.\n",
    "            get_user_model().objects.create_user(None,'test123')"
   ]
  },
  {
   "cell_type": "markdown",
   "metadata": {},
   "source": [
    "Now go back to our terminal & run the test .\n",
    "<br/><b>`$ sudo docker-compose run app sh -c \"python manage.py test\"`</b>\n",
    "\n",
    "And we will see that our test failed. So to pass the test we will modify our `models.py` file."
   ]
  },
  {
   "cell_type": "code",
   "execution_count": null,
   "metadata": {},
   "outputs": [],
   "source": [
    "                                                                                           #models.py\n",
    "from django.db import models\n",
    "from django.contrib.auth.models import AbstractBaseUser, \\\n",
    "    BaseUserManager, PermissionsMixin\n",
    "\n",
    "# Create a model manager class. As our model name is 'user',\n",
    "# So, model manager class name will be 'UserModel'\n",
    "class UserManager(BaseUserManager):\n",
    "\n",
    "    def create_user(self, email, password=None, **extra_fields):\n",
    "        \"\"\"\n",
    "        This function creates and saves a new user.\n",
    "\n",
    "        email = User email address.\n",
    "        password = User provided password. Default is none.\n",
    "        **extra_fields = This will allow to add new field when\n",
    "                    we create user. Such as user phone number\n",
    "                    etc.\n",
    "\n",
    "        return\n",
    "        This function return a newly created user.\n",
    "        \"\"\"\n",
    "        if not email:\n",
    "            raise ValueError('User must provide email address')\n",
    "\n",
    "        user = self.model(\n",
    "            email=self.normalize_email(email),\n",
    "            **extra_fields\n",
    "            )\n",
    "        user.set_password(password)\n",
    "        user.save(using=self._db)\n",
    "\n",
    "        # 'using=self._db' = This will help us to support\n",
    "        # multiple database.\n",
    "\n",
    "        return user\n",
    "\n",
    "# Now we will create our model class\n",
    "\n",
    "class User(AbstractBaseUser, PermissionsMixin):\n",
    "    \"\"\"\n",
    "    This is custom user model, that supports email base\n",
    "    user authentication rather than name base user \n",
    "    authentication.\n",
    "    \"\"\"\n",
    "\n",
    "    email = models.EmailField(max_length=255, unique=True)\n",
    "    name = models.CharField(max_length=255)\n",
    "    is_active = models.BooleanField(default=True)\n",
    "    is_staff = models.BooleanField(default=False)\n",
    "\n",
    "    objects = UserManager()\n",
    "\n",
    "    USERNAME_FIELD = 'email'\n",
    "    # In django by default USERNAME_FIELD = 'username', but\n",
    "    # in this app we are stting it to be email."
   ]
  },
  {
   "cell_type": "markdown",
   "metadata": {},
   "source": [
    "### Video: 28. Add support for creating superusers"
   ]
  },
  {
   "cell_type": "markdown",
   "metadata": {},
   "source": [
    "create_super_user() is a function used by the Django command line interface (cli), when we are creating new users using the command line."
   ]
  },
  {
   "cell_type": "code",
   "execution_count": null,
   "metadata": {},
   "outputs": [],
   "source": [
    "                                                                                     #test_models.py\n",
    "from django.test import TestCase\n",
    "from django.contrib.auth import get_user_model\n",
    "\n",
    "class ModelTests(TestCase):\n",
    "\n",
    "    def test_create_user_with_email_successfull(self):\n",
    "        \"\"\"\n",
    "        Test that will test whether creating a new user with\n",
    "        email and password is suceessful.\n",
    "        \"\"\"\n",
    "\n",
    "        # Now create one fake email & password for testing the\n",
    "        # user object\n",
    "        email = \"test_email@gmail.com\"\n",
    "        password = \"TestPassword123\"\n",
    "\n",
    "        # Create fake user object using above emaill & pass\n",
    "        user = get_user_model().objects.create_user(\n",
    "            email = email,\n",
    "            password = password\n",
    "        )\n",
    "\n",
    "        # Test the fake user object, whether properly created\n",
    "        # or not.\n",
    "        self.assertEqual(user.email,email)\n",
    "        self.assertTrue(user.check_password(password))\n",
    "\n",
    "\n",
    "    def test_new_user_email_normalized(self):\n",
    "        \"\"\"\n",
    "        This test will check whether we have implemented\n",
    "        email text normalized / convert all upper case letter\n",
    "        in email to lowercase or not.\n",
    "        \"\"\"\n",
    "\n",
    "        # Now we will create a dummy email with all upper case\n",
    "        # after @ sign \n",
    "        email = \"test_email@GMAIL.COM\"\n",
    "        password = \"Test1234\"\n",
    "\n",
    "        # Create fake user object using above emaill & pass\n",
    "        user = get_user_model().objects.create_user(\n",
    "            email = email,\n",
    "            password = password\n",
    "        )\n",
    "\n",
    "        # Now we will check whether our upper case email\n",
    "        # has been converted into lower case.\n",
    "        self.assertEqual(user.email, email.lower())\n",
    "\n",
    "\n",
    "    def test_invalid_user_email_raise_value_error(self):\n",
    "        \"\"\"\n",
    "        This test will ensure that if we try to create a new\n",
    "        user without providing an emaill address, our function\n",
    "        will raise a value error.\n",
    "        \"\"\"\n",
    "        with self.assertRaises(ValueError):\n",
    "            # anything that we run in here should \n",
    "            # raise the value error And if it doesn't \n",
    "            # raise the value error, then this test will fail.\n",
    "            get_user_model().objects.create_user(None,'test123')\n",
    "\n",
    "    def test_create_new_super_user(self):\n",
    "        \"\"\"\n",
    "        This test will check whether a new user is \n",
    "        created and have the super user & staf tag \n",
    "        assigned to it.\n",
    "        \"\"\"\n",
    "        user = get_user_model().objects.create_superuser(\n",
    "            'test_123@gmail.com',\n",
    "            'Test123'\n",
    "        )\n",
    "\n",
    "        # check whether new user is super user\n",
    "        self.assertTrue(user.is_superuser)\n",
    "        # check whether new user is staff\n",
    "        self.assertTrue(user.is_staff)"
   ]
  },
  {
   "cell_type": "markdown",
   "metadata": {},
   "source": [
    "Now go back to our terminal & run the test .\n",
    "<br/><b>`$ sudo docker-compose run app sh -c \"python manage.py test\"`</b>\n",
    "\n",
    "And we will see that our test failed. So to pass the test we will modify our `models.py` file."
   ]
  },
  {
   "cell_type": "code",
   "execution_count": null,
   "metadata": {},
   "outputs": [],
   "source": [
    "                                                                                        #models.py\n",
    "from django.db import models\n",
    "from django.contrib.auth.models import AbstractBaseUser, \\\n",
    "    BaseUserManager, PermissionsMixin\n",
    "\n",
    "# Create a model manager class. As our model name is 'user',\n",
    "# So, model manager class name will be 'UserModel'\n",
    "class UserManager(BaseUserManager):\n",
    "\n",
    "    def create_user(self, email, password=None, **extra_fields):\n",
    "        \"\"\"\n",
    "        This function creates and saves a new user.\n",
    "\n",
    "        email = User email address.\n",
    "        password = User provided password. Default is none.\n",
    "        **extra_fields = This will allow to add new field when\n",
    "                    we create user. Such as user phone number\n",
    "                    etc.\n",
    "\n",
    "        return\n",
    "        This function return a newly created user.\n",
    "        \"\"\"\n",
    "        if not email:\n",
    "            raise ValueError('User must provide email address')\n",
    "\n",
    "        user = self.model(\n",
    "            email=self.normalize_email(email),\n",
    "            **extra_fields\n",
    "            )\n",
    "        user.set_password(password)\n",
    "        user.save(using=self._db)\n",
    "\n",
    "        # 'using=self._db' = This will help us to support\n",
    "        # multiple database.\n",
    "\n",
    "        return user\n",
    "\n",
    "    \n",
    "    def create_superuser(self, email, password):\n",
    "        \"\"\"\n",
    "        Create a new super user & save it & return it\n",
    "        \"\"\"\n",
    "        user = self.create_user(email, password)\n",
    "        user.is_staff = True\n",
    "        user.is_superuser = True\n",
    "        user.save(using=self._db)\n",
    "\n",
    "        return user\n",
    "\n",
    "# Now we will create our model class\n",
    "\n",
    "class User(AbstractBaseUser, PermissionsMixin):\n",
    "    \"\"\"\n",
    "    This is custom user model, that supports email base\n",
    "    user authentication rather than name base user \n",
    "    authentication.\n",
    "    \"\"\"\n",
    "\n",
    "    email = models.EmailField(max_length=255, unique=True)\n",
    "    name = models.CharField(max_length=255)\n",
    "    is_active = models.BooleanField(default=True)\n",
    "    is_staff = models.BooleanField(default=False)\n",
    "\n",
    "    objects = UserManager()\n",
    "\n",
    "    USERNAME_FIELD = 'email'\n",
    "    # In django by default USERNAME_FIELD = 'username', but\n",
    "    # in this app we are stting it to be email."
   ]
  },
  {
   "cell_type": "markdown",
   "metadata": {},
   "source": [
    "### Video: 29. Add tests for listing users in Django admin"
   ]
  },
  {
   "cell_type": "markdown",
   "metadata": {},
   "source": []
  },
  {
   "cell_type": "code",
   "execution_count": null,
   "metadata": {},
   "outputs": [],
   "source": [
    "### Video: 25. Implement custom user model<b>``</b>\n",
    "<b>`$ `</b>\n",
    "<br/><b>`$ `</b>"
   ]
  }
 ],
 "metadata": {
  "kernelspec": {
   "display_name": "Python 3",
   "language": "python",
   "name": "python3"
  },
  "language_info": {
   "codemirror_mode": {
    "name": "ipython",
    "version": 3
   },
   "file_extension": ".py",
   "mimetype": "text/x-python",
   "name": "python",
   "nbconvert_exporter": "python",
   "pygments_lexer": "ipython3",
   "version": "3.6.7"
  }
 },
 "nbformat": 4,
 "nbformat_minor": 2
}
